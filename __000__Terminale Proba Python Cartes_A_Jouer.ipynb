{
 "cells": [
  {
   "cell_type": "markdown",
   "metadata": {},
   "source": [
    "# Utilisons le module itertools pour créer des ensembles:\n",
    "\n",
    "Commençons par créer deux ensembles de cartes:\n",
    "   * les figures\n",
    "   * les enseignes\n",
    "   \n",
    "Utilisons les ensembles générés en python pour explorer la notion mathématique d'événement"
   ]
  },
  {
   "cell_type": "code",
   "execution_count": 2,
   "metadata": {},
   "outputs": [],
   "source": [
    "# https://en.wikipedia.org/wiki/Playing_cards_in_Unicode\n",
    "# https://fr.wikipedia.org/wiki/Jeu_de_cartes_français\n",
    "#\n",
    "# Ω : touches altgr+maj+Q \n",
    "# https://www.eurekoi.org/\n",
    "#\n",
    "#Valet: J (jack)\n",
    "#Reine: Q (queen)\n",
    "#Roi: K (king)\n",
    "#\n",
    "\n",
    "import itertools"
   ]
  },
  {
   "cell_type": "code",
   "execution_count": 3,
   "metadata": {},
   "outputs": [
    {
     "name": "stdout",
     "output_type": "stream",
     "text": [
      "Les enseignes des cartes sont: {'♦', '♣', '♠', '♥'}\n"
     ]
    }
   ],
   "source": [
    "figures={'J','Q','K'}\n",
    "couleurs={'r','n'}\n",
    "\n",
    "trêfle =\"\\u2663\"\n",
    "coeur = \"\\u2665\"\n",
    "carreau = \"\\u2666\"\n",
    "pic =\"\\u2660\"\n",
    "rouge = {coeur, carreau}\n",
    "noire = {trêfle, pic}\n",
    "enseignes = {trêfle, carreau, coeur, pic}\n",
    "\n",
    "print(\"Les enseignes des cartes sont:\",enseignes)"
   ]
  },
  {
   "cell_type": "markdown",
   "metadata": {},
   "source": [
    "Vérifions que l'ensemble *rouge* est un sous ensemble de l'ensemble *enseignes*:\n",
    "\n",
    "$$ rouge \\subseteq enseignes$$\n",
    "\n",
    "\n",
    "L'expression booléenne python doit être vraie (*True*)\n",
    "```python\n",
    "   rouge <= enseignes\n",
    "```"
   ]
  },
  {
   "cell_type": "code",
   "execution_count": 4,
   "metadata": {},
   "outputs": [
    {
     "data": {
      "text/plain": [
       "True"
      ]
     },
     "execution_count": 4,
     "metadata": {},
     "output_type": "execute_result"
    }
   ],
   "source": [
    "rouge <= enseignes"
   ]
  },
  {
   "cell_type": "markdown",
   "metadata": {},
   "source": [
    "De même *noire* est un sous ensemble de *enseignes*:\n",
    "\n",
    "$$ noire \\subseteq enseignes$$"
   ]
  },
  {
   "cell_type": "code",
   "execution_count": 5,
   "metadata": {},
   "outputs": [
    {
     "data": {
      "text/plain": [
       "True"
      ]
     },
     "execution_count": 5,
     "metadata": {},
     "output_type": "execute_result"
    }
   ],
   "source": [
    "noire <= enseignes"
   ]
  },
  {
   "cell_type": "markdown",
   "metadata": {},
   "source": [
    "# Produit cartesien de deux ensembles:\n",
    "Ici on construit, définit,  un univers $\\Omega$ en réalisant le produit cartesien des figures (roi, dame, valet) et des enseignes (carreau, pic, coeur, trêfle):\n",
    "\n",
    " $$ \\Omega = figures \\times enseignes$$\n",
    " \n",
    "avec le module:\n",
    "\n",
    "```python\n",
    "    itertools.product()\n",
    "```"
   ]
  },
  {
   "cell_type": "markdown",
   "metadata": {},
   "source": [
    "## Univers, événement:\n",
    "On définit un univers: un paquet de cartes. Les issues de cet univers sont les cartes.\n",
    "En python, on va construire un ensemble en croisant les enseignes:\n",
    "\n",
    "                                    {♦, ♣, ♠, ♥} \n",
    "et les figures:\n",
    "\n",
    "                                    {J, Q, K}\n",
    "créant donc $4 \\times 3$ cartes."
   ]
  },
  {
   "cell_type": "code",
   "execution_count": 8,
   "metadata": {},
   "outputs": [
    {
     "name": "stdout",
     "output_type": "stream",
     "text": [
      "L'univers des cartes (figures) est:\n",
      "{('Q', '♦'), ('J', '♣'), ('Q', '♥'), ('K', '♣'), ('Q', '♠'), ('K', '♥'), ('J', '♠'), ('J', '♥'), ('K', '♠'), ('J', '♦'), ('K', '♦'), ('Q', '♣')}\n",
      "événement A:\"La carte est un roi \":\n",
      "{('K', '♥'), ('K', '♦'), ('K', '♠'), ('K', '♣')}\n",
      "A comporte 4  issues\n",
      " Les issues de l'événement A appartiennent à l'univers Ω:\n"
     ]
    },
    {
     "data": {
      "text/plain": [
       "True"
      ]
     },
     "execution_count": 8,
     "metadata": {},
     "output_type": "execute_result"
    }
   ],
   "source": [
    "# définissons un univers et des événements:\n",
    "Ω = {u for u in itertools.product(figures, enseignes)}\n",
    "print(\"L'univers des cartes (figures) est:\")\n",
    "print(Ω)\n",
    "#A: la carte est un roi\n",
    "A={k for k in itertools.product('K',enseignes)}\n",
    "print(\"événement A:\\\"La carte est un roi \\\":\")\n",
    "print(A)\n",
    "print('A comporte',len(A), ' issues')\n",
    "print(\" Les issues de l'événement A appartiennent à l'univers Ω:\")\n",
    "A.issubset(Ω)"
   ]
  },
  {
   "cell_type": "code",
   "execution_count": 3,
   "metadata": {},
   "outputs": [
    {
     "name": "stdout",
     "output_type": "stream",
     "text": [
      "événement B:\"La carte est rouge\\:\n",
      "{('K', '♦'), ('J', '♥'), ('Q', '♦'), ('J', '♦'), ('K', '♥'), ('Q', '♥')}\n"
     ]
    }
   ],
   "source": [
    "#B: la carte est rouge\n",
    "B={r for r in itertools.product(figures, rouge)}\n",
    "print(\"événement B:\\\"La carte est rouge\\:\")\n",
    "print(B)"
   ]
  },
  {
   "cell_type": "code",
   "execution_count": 4,
   "metadata": {},
   "outputs": [
    {
     "data": {
      "text/plain": [
       "{('K', '♥'), ('K', '♦')}"
      ]
     },
     "execution_count": 4,
     "metadata": {},
     "output_type": "execute_result"
    }
   ],
   "source": [
    "A.intersection(B)"
   ]
  },
  {
   "cell_type": "code",
   "execution_count": 40,
   "metadata": {},
   "outputs": [
    {
     "data": {
      "text/plain": [
       "{('J', '♥'),\n",
       " ('J', '♦'),\n",
       " ('K', '♠'),\n",
       " ('K', '♣'),\n",
       " ('K', '♥'),\n",
       " ('K', '♦'),\n",
       " ('Q', '♥'),\n",
       " ('Q', '♦')}"
      ]
     },
     "execution_count": 40,
     "metadata": {},
     "output_type": "execute_result"
    }
   ],
   "source": [
    "A.union(B)"
   ]
  }
 ],
 "metadata": {
  "kernelspec": {
   "display_name": "Python 3",
   "language": "python",
   "name": "python3"
  },
  "language_info": {
   "codemirror_mode": {
    "name": "ipython",
    "version": 3
   },
   "file_extension": ".py",
   "mimetype": "text/x-python",
   "name": "python",
   "nbconvert_exporter": "python",
   "pygments_lexer": "ipython3",
   "version": "3.7.6"
  }
 },
 "nbformat": 4,
 "nbformat_minor": 4
}
