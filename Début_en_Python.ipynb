{
  "nbformat": 4,
  "nbformat_minor": 0,
  "metadata": {
    "colab": {
      "name": "Début_en_Python.ipynb",
      "provenance": [],
      "collapsed_sections": []
    },
    "kernelspec": {
      "name": "python3",
      "display_name": "Python 3"
    }
  },
  "cells": [
    {
      "cell_type": "markdown",
      "metadata": {
        "id": "Gn9BcWDvOQ-y"
      },
      "source": [
        "#Premiers pas en python\n",
        "Bonjour et bienvenu pour vos débuts en python. L'environnement dans lequel vous travaillez s'appelle un notebook Jupyter. C'est un environnement qui peut mélanger du texte, de la vidéo et bien du code.\n",
        "\n",
        "Le code doit êêtre écrit dans des cellules de type code. Le texte que vous lisez est dans une cellule de type ... texte! Vous pouvez revenir en deuxième semaine si vou\n",
        "## Commençons par utiliser ce notebook comme calculatrice"
      ]
    },
    {
      "cell_type": "markdown",
      "metadata": {
        "id": "Gvt2yeepm3se"
      },
      "source": [
        "Addition et soustraction:"
      ]
    },
    {
      "cell_type": "code",
      "metadata": {
        "colab": {
          "base_uri": "https://localhost:8080/"
        },
        "id": "aCjH68tGLb8L",
        "outputId": "2a6325bd-9329-4fee-c709-6767ab3e9716"
      },
      "source": [
        "1+1"
      ],
      "execution_count": null,
      "outputs": [
        {
          "output_type": "execute_result",
          "data": {
            "text/plain": [
              "2"
            ]
          },
          "metadata": {
            "tags": []
          },
          "execution_count": 9
        }
      ]
    },
    {
      "cell_type": "code",
      "metadata": {
        "colab": {
          "base_uri": "https://localhost:8080/"
        },
        "id": "9tqxJgW1m8b0",
        "outputId": "1c68e683-11c1-4fe2-b509-2c30c0ee00e4"
      },
      "source": [
        "3-7"
      ],
      "execution_count": null,
      "outputs": [
        {
          "output_type": "execute_result",
          "data": {
            "text/plain": [
              "-4"
            ]
          },
          "metadata": {
            "tags": []
          },
          "execution_count": 11
        }
      ]
    },
    {
      "cell_type": "markdown",
      "metadata": {
        "id": "W0cWPwrsnUkk"
      },
      "source": [
        "produit et exposant"
      ]
    },
    {
      "cell_type": "code",
      "metadata": {
        "colab": {
          "base_uri": "https://localhost:8080/"
        },
        "id": "ywRIGOianaSm",
        "outputId": "32425546-b4bb-4990-c204-fc08332b64e0"
      },
      "source": [
        "2*5"
      ],
      "execution_count": null,
      "outputs": [
        {
          "output_type": "execute_result",
          "data": {
            "text/plain": [
              "10"
            ]
          },
          "metadata": {
            "tags": []
          },
          "execution_count": 12
        }
      ]
    },
    {
      "cell_type": "code",
      "metadata": {
        "colab": {
          "base_uri": "https://localhost:8080/"
        },
        "id": "RbnElus6nadd",
        "outputId": "001fbe64-3657-4b22-b9e9-865dd0bde0cd"
      },
      "source": [
        "2**5"
      ],
      "execution_count": null,
      "outputs": [
        {
          "output_type": "execute_result",
          "data": {
            "text/plain": [
              "32"
            ]
          },
          "metadata": {
            "tags": []
          },
          "execution_count": 14
        }
      ]
    },
    {
      "cell_type": "markdown",
      "metadata": {
        "id": "uAu25voonrFT"
      },
      "source": [
        "Racine carrée d'un nombre $\\sqrt{2}=2^{\\frac{1}{2}}$"
      ]
    },
    {
      "cell_type": "code",
      "metadata": {
        "colab": {
          "base_uri": "https://localhost:8080/"
        },
        "id": "zMTarNGiniyk",
        "outputId": "c22ad613-95c2-48bd-853a-31301adabcdc"
      },
      "source": [
        "2**(1/2)"
      ],
      "execution_count": null,
      "outputs": [
        {
          "output_type": "execute_result",
          "data": {
            "text/plain": [
              "1.4142135623730951"
            ]
          },
          "metadata": {
            "tags": []
          },
          "execution_count": 17
        }
      ]
    },
    {
      "cell_type": "markdown",
      "metadata": {
        "id": "vFzAdvsvn_LV"
      },
      "source": [
        "Quelle est l'aire d'un carre de coté égale à 3?\n",
        "\n",
        "\n",
        "> $3^2=9$\n",
        "\n",
        "Réciproquement, si l'aire d'un carré est égale à 9, son côté mesure: \n",
        "\n",
        "> $\\sqrt{9}=9^{\\frac{1}{2}}=3$\n",
        "\n",
        "\n",
        "vérifiez le ci-dessous"
      ]
    },
    {
      "cell_type": "code",
      "metadata": {
        "id": "ORvv-hEIn-Sz"
      },
      "source": [
        ""
      ],
      "execution_count": null,
      "outputs": []
    },
    {
      "cell_type": "code",
      "metadata": {
        "colab": {
          "base_uri": "https://localhost:8080/"
        },
        "id": "YOuRuUeennE1",
        "outputId": "1e9d5ee1-bb8e-469c-9c7d-e2b4d78ac1fb"
      },
      "source": [
        "2**(1/3)"
      ],
      "execution_count": null,
      "outputs": [
        {
          "output_type": "execute_result",
          "data": {
            "text/plain": [
              "1.2599210498948732"
            ]
          },
          "metadata": {
            "tags": []
          },
          "execution_count": 16
        }
      ]
    },
    {
      "cell_type": "markdown",
      "metadata": {
        "id": "cGhSDpSBlYdq"
      },
      "source": [
        "Quelques fractions:"
      ]
    },
    {
      "cell_type": "code",
      "metadata": {
        "colab": {
          "base_uri": "https://localhost:8080/"
        },
        "id": "5c-kmQaGLqIL",
        "outputId": "13c62a56-aa87-4c8f-e9be-672357b3ba05"
      },
      "source": [
        "4/9"
      ],
      "execution_count": null,
      "outputs": [
        {
          "output_type": "execute_result",
          "data": {
            "text/plain": [
              "0.4444444444444444"
            ]
          },
          "metadata": {
            "tags": []
          },
          "execution_count": 2
        }
      ]
    },
    {
      "cell_type": "code",
      "metadata": {
        "colab": {
          "base_uri": "https://localhost:8080/"
        },
        "id": "JqngSTmjlcWz",
        "outputId": "f2a40290-4dde-4d6c-f326-9000132c9231"
      },
      "source": [
        "2/7"
      ],
      "execution_count": null,
      "outputs": [
        {
          "output_type": "execute_result",
          "data": {
            "text/plain": [
              "0.2857142857142857"
            ]
          },
          "metadata": {
            "tags": []
          },
          "execution_count": 1
        }
      ]
    },
    {
      "cell_type": "code",
      "metadata": {
        "colab": {
          "base_uri": "https://localhost:8080/"
        },
        "id": "Pds3wxikliAF",
        "outputId": "c8e52b62-a366-4229-825d-d3fb3890bab6"
      },
      "source": [
        "4/9+2/7"
      ],
      "execution_count": null,
      "outputs": [
        {
          "output_type": "execute_result",
          "data": {
            "text/plain": [
              "0.7301587301587301"
            ]
          },
          "metadata": {
            "tags": []
          },
          "execution_count": 2
        }
      ]
    },
    {
      "cell_type": "markdown",
      "metadata": {
        "id": "ZWOpi8BrlvU4"
      },
      "source": [
        "La manipulation des fractions  peut-être plus satisfaisante:"
      ]
    },
    {
      "cell_type": "code",
      "metadata": {
        "id": "P0XT0B8EL8-a"
      },
      "source": [
        "from fractions import Fraction"
      ],
      "execution_count": null,
      "outputs": []
    },
    {
      "cell_type": "code",
      "metadata": {
        "id": "-K3R2IwFMDZ6"
      },
      "source": [
        "a=Fraction(4,9)\r\n",
        "b=Fraction(2,7)"
      ],
      "execution_count": null,
      "outputs": []
    },
    {
      "cell_type": "code",
      "metadata": {
        "colab": {
          "base_uri": "https://localhost:8080/"
        },
        "id": "f6uS1Js8M5k-",
        "outputId": "0c7298b9-af4b-4fd1-f405-3efacb31c574"
      },
      "source": [
        "c = a+b\r\n",
        "print(c,' environ égal à:', float(c))"
      ],
      "execution_count": null,
      "outputs": [
        {
          "output_type": "stream",
          "text": [
            "46/63  environ égal à: 0.7301587301587301\n"
          ],
          "name": "stdout"
        }
      ]
    },
    {
      "cell_type": "code",
      "metadata": {
        "colab": {
          "base_uri": "https://localhost:8080/"
        },
        "id": "XzuPBeqsNCDO",
        "outputId": "ef9d8705-6107-4913-906d-af533e58f4d6"
      },
      "source": [
        "1/a + 1/b"
      ],
      "execution_count": null,
      "outputs": [
        {
          "output_type": "execute_result",
          "data": {
            "text/plain": [
              "Fraction(23, 4)"
            ]
          },
          "metadata": {
            "tags": []
          },
          "execution_count": 7
        }
      ]
    },
    {
      "cell_type": "code",
      "metadata": {
        "id": "7CGlKAk6NSkr",
        "colab": {
          "base_uri": "https://localhost:8080/"
        },
        "outputId": "fde2c1dd-602b-4e1e-eded-2b6e6c096236"
      },
      "source": [
        "Fraction(1,2)"
      ],
      "execution_count": null,
      "outputs": [
        {
          "output_type": "execute_result",
          "data": {
            "text/plain": [
              "Fraction(1, 2)"
            ]
          },
          "metadata": {
            "tags": []
          },
          "execution_count": 8
        }
      ]
    },
    {
      "cell_type": "markdown",
      "metadata": {
        "id": "n7helA2gAnNJ"
      },
      "source": [
        "## Un peu d'algèbre\n",
        "\n",
        "Importons le module sympy. Sympy signifie symbolic Python\n",
        "\n"
      ]
    },
    {
      "cell_type": "code",
      "metadata": {
        "id": "pOMsgV5cAmpG"
      },
      "source": [
        "import sympy"
      ],
      "execution_count": 1,
      "outputs": []
    },
    {
      "cell_type": "code",
      "metadata": {
        "id": "sqF4-c35A33p"
      },
      "source": [
        ""
      ],
      "execution_count": null,
      "outputs": []
    }
  ]
}