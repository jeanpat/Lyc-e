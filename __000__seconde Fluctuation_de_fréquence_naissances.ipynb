{
  "nbformat": 4,
  "nbformat_minor": 0,
  "metadata": {
    "colab": {
      "name": "Fluctuation de fréquence: naissances",
      "provenance": []
    },
    "kernelspec": {
      "name": "python3",
      "display_name": "Python 3"
    }
  },
  "cells": [
    {
      "cell_type": "markdown",
      "metadata": {
        "id": "l0S5mT4dCHdI",
        "colab_type": "text"
      },
      "source": [
        "# Fluctuation de la fréquence des naissances:\n",
        "Vous vous souvenez de ce village dans lequel sur vingt naissances, seize bébés étaient des garçons?\n",
        "\n",
        ">>>>![Texte alternatif…](http://3.bp.blogspot.com/_pA_WaJftq1A/RtuenOzh64I/AAAAAAAAAFQ/mbQ33j8yFPs/s320/BangkokCrowd2.jpg)\n",
        "\n",
        "\n",
        "\n",
        "Pour simuler une naissance avec un tableur, on pouvait faire des tirages à PILE (garçon) ou FACE (fille) avec un générateur de nombres aléatoires. Chaque colonne du tableau représente une naissance et chaque ligne représente un village.\n",
        "[Simulation tableur](https://docs.google.com/spreadsheets/d/148_IkoLVDev-SHRtxh_6Br0e-v43qXjc4TlAEtiuVzE/edit?usp=sharing)\n",
        "Cette fois-ci, reprenons la simulation en écrivant du code."
      ]
    },
    {
      "cell_type": "markdown",
      "metadata": {
        "id": "-giLbuRBKKIw",
        "colab_type": "text"
      },
      "source": [
        "#SCRATCH c'est bien, mais PYTHON c'est ... différent !!\n",
        "\n",
        "---\n",
        "\n",
        "\n",
        ">>>![Sratch](https://sites.google.com/a/isd284.com/birchview-s-links/_/rsrc/1516722370104/3-third-grade/scratch/scratch.png) ![Python](https://upload.wikimedia.org/wikipedia/commons/thumb/0/0a/Python.svg/240px-Python.svg.png)\n",
        "\n",
        "\n",
        "\n",
        "\n",
        "Faisons un peu d'algorithmique avec un langage de programmation: PYTHON !"
      ]
    },
    {
      "cell_type": "markdown",
      "metadata": {
        "id": "pVJKcsvKSGJS",
        "colab_type": "text"
      },
      "source": [
        "# Faisons connaissance avec l'environnement jupyter colab:\n",
        "Jupyter est un environnement permettant d'écrire du code python.\n",
        "\n",
        "Ci dessous, vous avez une cellule. Quand on clique sur le triangle, on exécute le programme qui se trouve à l'intérieur (le résultat est le même au clavier en faisant: $SHIFT+ENTRER$). A votre avis que fait le programme ci dessous?"
      ]
    },
    {
      "cell_type": "code",
      "metadata": {
        "id": "sTLFEqvmBhNO",
        "colab_type": "code",
        "outputId": "ac38064f-7c04-456e-f2ec-102bb0211adf",
        "colab": {
          "base_uri": "https://localhost:8080/",
          "height": 34
        }
      },
      "source": [
        "print(1+3)"
      ],
      "execution_count": 0,
      "outputs": [
        {
          "output_type": "stream",
          "text": [
            "4\n"
          ],
          "name": "stdout"
        }
      ]
    },
    {
      "cell_type": "markdown",
      "metadata": {
        "id": "b78Bvlr-D0cC",
        "colab_type": "text"
      },
      "source": [
        "## Devinerez-vous ce fait le programme ci dessous?"
      ]
    },
    {
      "cell_type": "code",
      "metadata": {
        "id": "OZQpZFtXEF6g",
        "colab_type": "code",
        "outputId": "966af7be-7ec8-484d-921a-7344cec91ba4",
        "colab": {
          "base_uri": "https://localhost:8080/",
          "height": 34
        }
      },
      "source": [
        "nombre1 = 2\n",
        "nombre2 = 3\n",
        "nombre3 = nombre1 * nombre2\n",
        "print('le résultat est:', nombre3)"
      ],
      "execution_count": 0,
      "outputs": [
        {
          "output_type": "stream",
          "text": [
            "le résultat est: 6\n"
          ],
          "name": "stdout"
        }
      ]
    },
    {
      "cell_type": "markdown",
      "metadata": {
        "id": "TDOs3OszFIBy",
        "colab_type": "text"
      },
      "source": [
        "# Passons aux choses sérieuses.\n",
        "Nous allons avoir besoin de quelques super-pouvoirs:\n",
        "\n",
        "*   Pour faire des choix aléatoires\n",
        "*   Pour compter facilement.\n",
        "*   Pour tracer des graphiques\n",
        "\n",
        "Exécuter le code dans la cellules ci dessous, en cliquant sur le triangle ou $shift+entrer$:\n"
      ]
    },
    {
      "cell_type": "code",
      "metadata": {
        "id": "o6x0W4s9KIop",
        "colab_type": "code",
        "colab": {}
      },
      "source": [
        "import random\n",
        "from collections import Counter\n",
        "from matplotlib import pyplot as plt"
      ],
      "execution_count": 0,
      "outputs": []
    },
    {
      "cell_type": "markdown",
      "metadata": {
        "id": "v_orfNnwVkMQ",
        "colab_type": "text"
      },
      "source": [
        "## Jouez avec l'instruction $random.choice()$:\n",
        "Cliquez sur l'icône triangle ci dessous, plusieurs fois:"
      ]
    },
    {
      "cell_type": "code",
      "metadata": {
        "id": "xBcygrPsLAsR",
        "colab_type": "code",
        "cellView": "both",
        "outputId": "f1a3d2b1-9583-46f0-d84a-f87895047db7",
        "colab": {
          "base_uri": "https://localhost:8080/",
          "height": 34
        }
      },
      "source": [
        "random.choice([\"garçon\",\"fille\"])\n"
      ],
      "execution_count": 0,
      "outputs": [
        {
          "output_type": "execute_result",
          "data": {
            "text/plain": [
              "'fille'"
            ]
          },
          "metadata": {
            "tags": []
          },
          "execution_count": 4
        }
      ]
    },
    {
      "cell_type": "markdown",
      "metadata": {
        "id": "7F-K8TGlJ9Ja",
        "colab_type": "text"
      },
      "source": [
        "## Pouvez-vous expliquer ce que fait l'instruction $random.choice([\"garçon\",\"fille\"])$ ?\n",
        "\n",
        "Double cliquez ici et notez votre réponse à la suite : \n",
        "\n",
        "................................................................\n"
      ]
    },
    {
      "cell_type": "markdown",
      "metadata": {
        "id": "AtQQJ36KStWc",
        "colab_type": "text"
      },
      "source": [
        "## Mettons $random.choice([\"garçon\",\"fille\"]$ dans une boucle:\n",
        "*    Que fait le code dans la cellule ci dessous?    Double cliquez ici et notez votre réponse:\n",
        "*    .............................\n"
      ]
    },
    {
      "cell_type": "code",
      "metadata": {
        "id": "lzZaTLDaK7xy",
        "colab_type": "code",
        "outputId": "be2f207e-a01d-4d66-8297-d8d39408414d",
        "colab": {
          "base_uri": "https://localhost:8080/",
          "height": 89
        }
      },
      "source": [
        "TotalNaissances = 100\n",
        "bebes= [random.choice([\"garçon\",\"fille\"]) for naiss in range(TotalNaissances)]\n",
        "print(bebes)\n",
        "print()\n",
        "print('bebes est une variable contenant :',type(bebes))"
      ],
      "execution_count": 0,
      "outputs": [
        {
          "output_type": "stream",
          "text": [
            "['fille', 'garçon', 'garçon', 'garçon', 'fille', 'fille', 'garçon', 'fille', 'garçon', 'fille', 'fille', 'garçon', 'fille', 'garçon', 'garçon', 'garçon', 'fille', 'garçon', 'garçon', 'garçon', 'garçon', 'fille', 'garçon', 'garçon', 'garçon', 'fille', 'fille', 'garçon', 'fille', 'garçon', 'garçon', 'garçon', 'garçon', 'garçon', 'fille', 'fille', 'garçon', 'garçon', 'fille', 'fille', 'garçon', 'fille', 'garçon', 'fille', 'garçon', 'garçon', 'garçon', 'garçon', 'garçon', 'garçon', 'fille', 'garçon', 'garçon', 'fille', 'fille', 'fille', 'fille', 'fille', 'garçon', 'garçon', 'garçon', 'garçon', 'garçon', 'garçon', 'fille', 'garçon', 'garçon', 'fille', 'garçon', 'fille', 'garçon', 'fille', 'fille', 'fille', 'garçon', 'garçon', 'fille', 'garçon', 'garçon', 'garçon', 'garçon', 'fille', 'garçon', 'garçon', 'fille', 'garçon', 'garçon', 'fille', 'fille', 'fille', 'garçon', 'garçon', 'garçon', 'garçon', 'garçon', 'garçon', 'fille', 'fille', 'garçon', 'garçon']\n",
            "\n",
            "bebes est une variable contenant : <class 'list'>\n"
          ],
          "name": "stdout"
        }
      ]
    },
    {
      "cell_type": "markdown",
      "metadata": {
        "id": "yFylBytQvSSq",
        "colab_type": "text"
      },
      "source": [
        "## Executez plusieurs fois le code ci dessous:"
      ]
    },
    {
      "cell_type": "code",
      "metadata": {
        "id": "L9v8sEMoIybq",
        "colab_type": "code",
        "outputId": "f9f1b35a-b381-422b-86b8-80b0a923778a",
        "colab": {
          "base_uri": "https://localhost:8080/",
          "height": 86
        }
      },
      "source": [
        "TotalNaissances = 100\n",
        "bebes= [random.choice([\"garçon\",\"fille\"]) for naiss in range(TotalNaissances)]\n",
        "\n",
        "effectifs = Counter(bebes)\n",
        "freqFilles = effectifs['fille'] / TotalNaissances\n",
        "freqGarcons = effectifs['garçon'] / TotalNaissances\n",
        "\n",
        "print('La variable effectif contient:', effectifs)\n",
        "print()\n",
        "print('La variable freqFilles contient', freqFilles)\n",
        "print('La variable freqGarcons contient', freqGarcons)"
      ],
      "execution_count": 0,
      "outputs": [
        {
          "output_type": "stream",
          "text": [
            "La variable effectif contient: Counter({'garçon': 56, 'fille': 44})\n",
            "\n",
            "La variable freqFilles contient 0.44\n",
            "La variable freqGarcons contient 0.56\n"
          ],
          "name": "stdout"
        }
      ]
    },
    {
      "cell_type": "markdown",
      "metadata": {
        "id": "p94fKeFpznsI",
        "colab_type": "text"
      },
      "source": [
        "# Simulons $\\color{green}{100}$ naissances dans 400 villages:\n",
        "Remarquons que si nous voulions faire la même chose avec un tableur, il faudrait remplir 100 colonnes et 400 lignes, ce qui commence à ne pas être pratique.\n",
        "\n",
        "Observons la fluctuation de la fréquence des bébés garçons dans  sous l'hypothèse que les bébés filles et garçons ont la même chance d'être conçus."
      ]
    },
    {
      "cell_type": "markdown",
      "metadata": {
        "id": "u2TMdauwyhYG",
        "colab_type": "text"
      },
      "source": [
        "Que contiennent les variables suivantes (double cliquez pour indiquer votre réponse)?\n",
        "\n",
        "*    effectifs:\n",
        "*    TotalNaissances: \n",
        "*    freqFilles:"
      ]
    },
    {
      "cell_type": "code",
      "metadata": {
        "id": "vOgBo8ZdLNFW",
        "colab_type": "code",
        "colab": {}
      },
      "source": [
        "NVillages = 400\n",
        "frequences_filles = []\n",
        "frequences_garcons = []\n",
        "\n",
        "for village in range(NVillages):\n",
        "  TotalNaissances = 100\n",
        "  bebes= [random.choice([\"garçon\",\"fille\"]) for naiss in range(TotalNaissances)]\n",
        "\n",
        "  effectifs = Counter(bebes)\n",
        "  freqFilles = effectifs['fille'] / TotalNaissances\n",
        "  freqGarcons = effectifs['garçon'] / TotalNaissances\n",
        "  frequences_filles.append(freqFilles)\n",
        "  frequences_garcons.append(freqGarcons)"
      ],
      "execution_count": 0,
      "outputs": []
    },
    {
      "cell_type": "markdown",
      "metadata": {
        "id": "iyAVpccFBjAw",
        "colab_type": "text"
      },
      "source": [
        "### Le graphique ci dessous permet de visualiser la fréquence des naissances des garçons dans $\\color{red}{400}$ villages :"
      ]
    },
    {
      "cell_type": "code",
      "metadata": {
        "id": "xdR44ePG2FG6",
        "colab_type": "code",
        "outputId": "2c393d44-ba4b-49e7-fc68-9c2884efca30",
        "colab": {
          "base_uri": "https://localhost:8080/",
          "height": 300
        }
      },
      "source": [
        "axes = plt.gca()\n",
        "axes.figure.set_figwidth(15)\n",
        "axes.set_xlabel('village')\n",
        "axes.set_ylabel('frequence naissance garçons')\n",
        "axes.set_ylim([0, 1])\n",
        "axes.scatter(range(NVillages), frequences_garcons)"
      ],
      "execution_count": 0,
      "outputs": [
        {
          "output_type": "execute_result",
          "data": {
            "text/plain": [
              "<matplotlib.collections.PathCollection at 0x7f29b18490f0>"
            ]
          },
          "metadata": {
            "tags": []
          },
          "execution_count": 18
        },
        {
          "output_type": "display_data",
          "data": {
            "image/png": "[encoded data removed]",
            "text/plain": [
              "<Figure size 1080x288 with 1 Axes>"
            ]
          },
          "metadata": {
            "tags": []
          }
        }
      ]
    },
    {
      "cell_type": "markdown",
      "metadata": {
        "id": "kP9pX2FOTaKP",
        "colab_type": "text"
      },
      "source": [
        "# Intervalle de fluctuation au niveau 95%\n",
        "Si la taille de l'échantillon  $N ≥ 25$ et la probabilité p varie entre 0,2 et 0,8, c'est à dire $0.2< p < 0.8$ alors on trouvera la fréquence de naissance des garçons dans l'intervalle $I $ tel que: \n",
        "\n",
        "\n",
        ">>> $ I=[p-\\frac{1}{\\sqrt{N}}; p+\\frac{1}{\\sqrt{N}}] $\n",
        "\n",
        "Ici, on a:  $p=0.5$ et $ N=100$, donc:\n",
        ">>> $ I=[0.5-\\frac{1}{\\sqrt{100}}; 0.5+\\frac{1}{\\sqrt{100}}] =[0.4;0.6]$\n",
        "\n",
        "Cela signifie que pour les 100 naissances de chaque village, dans 95% des villages, la fréquence de naissance de garçons doit être comprise entre 0,4 et 0,6.\n",
        "\n",
        "## Modélisation\n",
        "Dans ce modèle, la naissance des garçons (des filles aussi) est aléatoire avec une probabilité $p=0.5$.\n",
        "* On simule 100 naissances par village.\n",
        "* On calcule la fréquence, $f_G$, de naissance des garçons.\n",
        "* On répète la simulation des naissances dans 400 villages\n",
        "    \n",
        "Dans les 400 villages, la fréquence des naissances des garçons varie aléatoirement (on dit qu'elle fluctue) entre 0,4 et 0,6. Sur 400 villages, la fréquence des naissances de garçons est hors de cet intervalle dans moins de cinq fois.\n",
        "\n",
        "Vérifions ci dessous que la modélisation informatique fonctionne. La proportion de villages dont la fréquence de naissance des garçons hors intervalle $[0,4 ; 0,6]$ doit être inférieure 5 %"
      ]
    },
    {
      "cell_type": "code",
      "metadata": {
        "id": "Dn_SSXIxhFVy",
        "colab_type": "code",
        "outputId": "db47f879-64ec-470e-94dd-8ce6e5d6df0c",
        "colab": {
          "base_uri": "https://localhost:8080/",
          "height": 278
        }
      },
      "source": [
        "hors_Ifluc = 0\n",
        "for compteur, freq in enumerate(frequences_garcons):\n",
        "  if freq<0.4 or 0.6 <freq:\n",
        "    print(\"la fréquence de naissance dans le \",compteur,\"ième village est hors intervalle et vaut:\",freq)\n",
        "    hors_Ifluc = hors_Ifluc + 1\n",
        "print(\"Il y a:\",hors_Ifluc,\" villages sur\",NVillages,\" où la fréquence de naissance de garçons n'est pas dans l'intervalle [0.4; 0.6]. C'est à dire \", 100*hors_Ifluc/NVillages,\"% des villages\" )"
      ],
      "execution_count": 0,
      "outputs": [
        {
          "output_type": "stream",
          "text": [
            "la fréquence de naissance dans le  56 ième village est hors intervalle et vaut: 0.62\n",
            "la fréquence de naissance dans le  105 ième village est hors intervalle et vaut: 0.62\n",
            "la fréquence de naissance dans le  133 ième village est hors intervalle et vaut: 0.39\n",
            "la fréquence de naissance dans le  135 ième village est hors intervalle et vaut: 0.61\n",
            "la fréquence de naissance dans le  136 ième village est hors intervalle et vaut: 0.61\n",
            "la fréquence de naissance dans le  138 ième village est hors intervalle et vaut: 0.39\n",
            "la fréquence de naissance dans le  166 ième village est hors intervalle et vaut: 0.63\n",
            "la fréquence de naissance dans le  222 ième village est hors intervalle et vaut: 0.37\n",
            "la fréquence de naissance dans le  235 ième village est hors intervalle et vaut: 0.35\n",
            "la fréquence de naissance dans le  275 ième village est hors intervalle et vaut: 0.61\n",
            "la fréquence de naissance dans le  279 ième village est hors intervalle et vaut: 0.34\n",
            "la fréquence de naissance dans le  282 ième village est hors intervalle et vaut: 0.39\n",
            "la fréquence de naissance dans le  366 ième village est hors intervalle et vaut: 0.39\n",
            "la fréquence de naissance dans le  372 ième village est hors intervalle et vaut: 0.36\n",
            "Il y a: 14  villages sur 400  où la fréquence de naissance de garçons n'est pas dans l'intervalle [0.4; 0.6]. C'est à dire  3.5 % des villages\n"
          ],
          "name": "stdout"
        }
      ]
    },
    {
      "cell_type": "markdown",
      "metadata": {
        "id": "fLxD_O-Vd2_o",
        "colab_type": "text"
      },
      "source": [
        "Si dans la vraie vie, on trouve un village où sur 100 naissances, la fréquence de naissance des garçons n'est pas dans l'intervalle $[0,4 ~;~ 0,6]$, on peut dire qu'avec 5% d'erreur, cette fréquence de naissance des garçons n'est pas due au hasard"
      ]
    },
    {
      "cell_type": "code",
      "metadata": {
        "id": "AJI6049ugv5c",
        "colab_type": "code",
        "colab": {}
      },
      "source": [
        ""
      ],
      "execution_count": 0,
      "outputs": []
    },
    {
      "cell_type": "code",
      "metadata": {
        "id": "7C9WvfLefcuP",
        "colab_type": "code",
        "colab": {}
      },
      "source": [
        ""
      ],
      "execution_count": 0,
      "outputs": []
    }
  ]
}