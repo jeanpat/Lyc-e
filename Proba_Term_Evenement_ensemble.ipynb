{
 "cells": [
  {
   "cell_type": "code",
   "execution_count": 2,
   "metadata": {
    "scrolled": true
   },
   "outputs": [
    {
     "name": "stdout",
     "output_type": "stream",
     "text": [
      "Collecting package metadata (current_repodata.json): done\n",
      "Solving environment: done\n",
      "\n",
      "## Package Plan ##\n",
      "\n",
      "  environment location: /home/jeanpat/anaconda3/envs/spyder-env\n",
      "\n",
      "  added / updated specs:\n",
      "    - matplotlib-venn\n",
      "\n",
      "\n",
      "The following packages will be downloaded:\n",
      "\n",
      "    package                    |            build\n",
      "    ---------------------------|-----------------\n",
      "    matplotlib-venn-0.11.6     |     pyh9f0ad1d_0          28 KB  conda-forge\n",
      "    openssl-1.1.1k             |       h7f98852_0         2.1 MB  conda-forge\n",
      "    ------------------------------------------------------------\n",
      "                                           Total:         2.1 MB\n",
      "\n",
      "The following NEW packages will be INSTALLED:\n",
      "\n",
      "  matplotlib-venn    conda-forge/noarch::matplotlib-venn-0.11.6-pyh9f0ad1d_0\n",
      "\n",
      "The following packages will be UPDATED:\n",
      "\n",
      "  openssl                                 1.1.1i-h7f98852_0 --> 1.1.1k-h7f98852_0\n",
      "\n",
      "\n",
      "\n",
      "Downloading and Extracting Packages\n",
      "openssl-1.1.1k       | 2.1 MB    | ##################################### | 100% \n",
      "matplotlib-venn-0.11 | 28 KB     | ##################################### | 100% \n",
      "Preparing transaction: done\n",
      "Verifying transaction: done\n",
      "Executing transaction: done\n",
      "\n",
      "Note: you may need to restart the kernel to use updated packages.\n"
     ]
    }
   ],
   "source": [
    "## Il est peut-être necessaire d'installer certaines librairies\n",
    "%conda install -c conda-forge matplotlib-venn"
   ]
  },
  {
   "cell_type": "markdown",
   "metadata": {},
   "source": [
    "# Commençons par importer quelques modules:\n",
    "   * Diagrammes de Venn\n",
    "   * pyplot, on ne sait jamais...\n",
    "   * le module Fraction, pour avoir des valeurs exactes pour les probabilités, ce qui est plus agréable.\n",
    "   "
   ]
  },
  {
   "cell_type": "code",
   "execution_count": 3,
   "metadata": {
    "id": "51RjKvWIrree"
   },
   "outputs": [],
   "source": [
    "from matplotlib_venn import venn3\n",
    "from matplotlib import pyplot as plt\n",
    "from fractions import Fraction"
   ]
  },
  {
   "cell_type": "markdown",
   "metadata": {
    "id": "YQczJFaMv4EP"
   },
   "source": [
    "# Définissons trois ensembles:\n",
    "\n",
    "  * Un ensemble $A$ comprenant 7 cartes: $A = \\{roi,dame,sept,as,dix,six,valet\\}$\n",
    "  * Un ensemble $B$ comprenant 3 cartes: $B = \\{dame,deux,dix\\}$\n",
    "\n",
    "ainsi que l'ensemble $U$ réunion des ensembles $A$, $B$ et $\\{trois, quatre, cinq\\}$\n",
    "\n"
   ]
  },
  {
   "cell_type": "code",
   "execution_count": 4,
   "metadata": {
    "id": "fJhTCn2-yBdX"
   },
   "outputs": [],
   "source": [
    "A = {'roi','dame','sept','as','dix','six','valet'}\n",
    "B = {'dame','deux','dix'}\n",
    "C = {'trois','quatre','cinq'}\n",
    "U = A | B | C"
   ]
  },
  {
   "cell_type": "markdown",
   "metadata": {
    "id": "SHehlqCbyWUk"
   },
   "source": [
    "Vérifions le type de $U$ : c'est un ensemble (set)"
   ]
  },
  {
   "cell_type": "code",
   "execution_count": 5,
   "metadata": {
    "colab": {
     "base_uri": "https://localhost:8080/",
     "height": 35
    },
    "id": "_dV3Td-LrPCV",
    "outputId": "999e5246-ebc3-44d5-eda7-e85f334d1a68"
   },
   "outputs": [
    {
     "data": {
      "text/plain": [
       "set"
      ]
     },
     "execution_count": 5,
     "metadata": {},
     "output_type": "execute_result"
    }
   ],
   "source": [
    "type(U)"
   ]
  },
  {
   "cell_type": "markdown",
   "metadata": {
    "id": "C-V0pOnWyf8P"
   },
   "source": [
    "Quels sont les éléments de $U$?"
   ]
  },
  {
   "cell_type": "code",
   "execution_count": 6,
   "metadata": {
    "colab": {
     "base_uri": "https://localhost:8080/",
     "height": 219
    },
    "id": "J7nOkDhMrPCo",
    "outputId": "2d7ebeeb-a7c6-4f8a-e77b-109499e22837"
   },
   "outputs": [
    {
     "data": {
      "text/plain": [
       "{'as',\n",
       " 'cinq',\n",
       " 'dame',\n",
       " 'deux',\n",
       " 'dix',\n",
       " 'quatre',\n",
       " 'roi',\n",
       " 'sept',\n",
       " 'six',\n",
       " 'trois',\n",
       " 'valet'}"
      ]
     },
     "execution_count": 6,
     "metadata": {},
     "output_type": "execute_result"
    }
   ],
   "source": [
    "U"
   ]
  },
  {
   "cell_type": "markdown",
   "metadata": {
    "id": "GDZD_p5Q0ni1"
   },
   "source": [
    "## Représentons les ensembles avec un diagramme de Venn:"
   ]
  },
  {
   "cell_type": "code",
   "execution_count": 7,
   "metadata": {
    "colab": {
     "base_uri": "https://localhost:8080/",
     "height": 338
    },
    "id": "H5x0Ouj5r7RM",
    "outputId": "3c7dec24-fda5-4258-8290-8d19303dfda1"
   },
   "outputs": [
    {
     "data": {
      "image/png": "[encoded data removed]",
      "text/plain": [
       "<Figure size 864x1152 with 2 Axes>"
      ]
     },
     "metadata": {},
     "output_type": "display_data"
    }
   ],
   "source": [
    "plt.figure(figsize=(12,16))\n",
    "\n",
    "plt.subplot(121)\n",
    "venn3([A, B, C], ('A', 'B', 'C'))\n",
    "\n",
    "plt.subplot(122)\n",
    "venn3([A, B, U], ('A', 'B', 'U'))\n",
    "\n",
    "plt.show()"
   ]
  },
  {
   "cell_type": "markdown",
   "metadata": {
    "id": "lpKjEcT700X4"
   },
   "source": [
    "## Opération sur les ensembles:\n",
    "\n",
    "  * Sous ensemble\n",
    "  * Intersection de deux ensembles\n",
    "  * Union de deux ensembles\n",
    "  * nombre d'éléments d'un ensemble"
   ]
  },
  {
   "cell_type": "markdown",
   "metadata": {
    "id": "6N9fknMb1aOT"
   },
   "source": [
    "### Sous ensemble:"
   ]
  },
  {
   "cell_type": "code",
   "execution_count": 8,
   "metadata": {
    "colab": {
     "base_uri": "https://localhost:8080/",
     "height": 54
    },
    "id": "D6G-RPJVrPC4",
    "outputId": "0463e9d6-5e0c-4d45-ba7b-168107937693"
   },
   "outputs": [
    {
     "name": "stdout",
     "output_type": "stream",
     "text": [
      "False\n",
      "True\n"
     ]
    }
   ],
   "source": [
    "print(B.issubset(A))\n",
    "print(A.issubset(U))"
   ]
  },
  {
   "cell_type": "code",
   "execution_count": 9,
   "metadata": {
    "colab": {
     "base_uri": "https://localhost:8080/",
     "height": 72
    },
    "id": "Am98GQoG6fDW",
    "outputId": "cb33e4b8-ddf4-45bb-bac6-6e6ea931b497"
   },
   "outputs": [
    {
     "name": "stdout",
     "output_type": "stream",
     "text": [
      "True\n",
      "True\n",
      "True\n"
     ]
    }
   ],
   "source": [
    "print(U <= U)\n",
    "print(U >=U)\n",
    "print(U >= A)"
   ]
  },
  {
   "cell_type": "markdown",
   "metadata": {
    "id": "5-0vHgV21gO1"
   },
   "source": [
    "###intersection de deux ensembles:"
   ]
  },
  {
   "cell_type": "code",
   "execution_count": 10,
   "metadata": {
    "id": "uOFggf0arPDF"
   },
   "outputs": [],
   "source": [
    "A_inter_B = B.intersection(A)"
   ]
  },
  {
   "cell_type": "code",
   "execution_count": 11,
   "metadata": {
    "colab": {
     "base_uri": "https://localhost:8080/",
     "height": 35
    },
    "id": "_jtW-n1IrPDO",
    "outputId": "beb427f8-4932-4d7a-e4f9-068a22b639e8"
   },
   "outputs": [
    {
     "data": {
      "text/plain": [
       "{'dame', 'dix'}"
      ]
     },
     "execution_count": 11,
     "metadata": {},
     "output_type": "execute_result"
    }
   ],
   "source": [
    "A_inter_B"
   ]
  },
  {
   "cell_type": "code",
   "execution_count": 12,
   "metadata": {
    "colab": {
     "base_uri": "https://localhost:8080/",
     "height": 35
    },
    "id": "D9O2zuTBrPDc",
    "outputId": "07c5b32f-e06a-4600-def7-36dcf4c5c57f"
   },
   "outputs": [
    {
     "data": {
      "text/plain": [
       "{'dame', 'dix'}"
      ]
     },
     "execution_count": 12,
     "metadata": {},
     "output_type": "execute_result"
    }
   ],
   "source": [
    "A & B"
   ]
  },
  {
   "cell_type": "code",
   "execution_count": 13,
   "metadata": {
    "colab": {
     "base_uri": "https://localhost:8080/",
     "height": 35
    },
    "id": "QMrLM6bHrPDp",
    "outputId": "003e88d7-e73a-4c71-a411-40cbc4fc3fd9"
   },
   "outputs": [
    {
     "data": {
      "text/plain": [
       "{'dame', 'dix'}"
      ]
     },
     "execution_count": 13,
     "metadata": {},
     "output_type": "execute_result"
    }
   ],
   "source": [
    "B & A"
   ]
  },
  {
   "cell_type": "markdown",
   "metadata": {
    "id": "aTGm6e_F1mAh"
   },
   "source": [
    "### Union de deux ensembles:"
   ]
  },
  {
   "cell_type": "code",
   "execution_count": 14,
   "metadata": {
    "colab": {
     "base_uri": "https://localhost:8080/",
     "height": 35
    },
    "id": "UHLJZfmdrPD3",
    "outputId": "940d40eb-81ac-4400-a407-659a76a759c3"
   },
   "outputs": [
    {
     "data": {
      "text/plain": [
       "{'as', 'dame', 'deux', 'dix', 'roi', 'sept', 'six', 'valet'}"
      ]
     },
     "execution_count": 14,
     "metadata": {},
     "output_type": "execute_result"
    }
   ],
   "source": [
    "A | B"
   ]
  },
  {
   "cell_type": "markdown",
   "metadata": {
    "id": "10EbJy9a1wfk"
   },
   "source": [
    "### Nombre d'éléments d'un ensemble:"
   ]
  },
  {
   "cell_type": "code",
   "execution_count": 15,
   "metadata": {
    "colab": {
     "base_uri": "https://localhost:8080/",
     "height": 35
    },
    "id": "J2DQffpRrPEE",
    "outputId": "339e6ba1-66ca-446a-aa77-bafe74526fa8"
   },
   "outputs": [
    {
     "data": {
      "text/plain": [
       "8"
      ]
     },
     "execution_count": 15,
     "metadata": {},
     "output_type": "execute_result"
    }
   ],
   "source": [
    "len(A | B)"
   ]
  },
  {
   "cell_type": "markdown",
   "metadata": {
    "id": "ugV41RF627_N"
   },
   "source": [
    "# Probabilité d'un événement:\n",
    "\n",
    "   * Probabilité de l'événement $A$ : $P(A) = \\frac{Nombre~de~cas~favorables}\n",
    "   {Nombre~de~cas~possibles}$\n",
    "   * Proba de A et B : $P(A \\cap B)$\n",
    "   * Proba de A ou B : $P(A \\cup B)$"
   ]
  },
  {
   "cell_type": "markdown",
   "metadata": {
    "id": "uB4p7ntprPER"
   },
   "source": [
    " **Calculons une proba en python:**\n",
    "\n",
    " Avec une valeur approchée (argh!!)\n",
    "``` python\n",
    "    pA= len(A)/len(U)\n",
    "```\n",
    "maintenant avec une valeur exacte et le module *Fraction* importé plus haut:\n",
    "``` python\n",
    "    pA= Fraction(len(A),len(U))\n",
    "```\n",
    "On respire mieux. Profitons-en pour vérifier si on a bien :\n",
    "\n",
    "$$P(A \\cup B) = P(A)+P(B)-P(A  \\cap B)$$\n",
    "\n",
    "en montrant que:\n",
    "\n",
    "```python\n",
    "    pA_ou_B == pA+pB-pAB\n",
    "```\n",
    "est vrai"
   ]
  },
  {
   "cell_type": "code",
   "execution_count": 16,
   "metadata": {
    "colab": {
     "base_uri": "https://localhost:8080/",
     "height": 109
    },
    "id": "t1eucJey4AeI",
    "outputId": "fed01244-87d7-4f48-d616-70e66c23713e"
   },
   "outputs": [
    {
     "name": "stdout",
     "output_type": "stream",
     "text": [
      "proba de A: 0.6363636363636364\n",
      "proba de A avec fraction: 7/11\n",
      "proba de B avec fraction: 3/11\n",
      "proba de A et B,  avec fraction: 2/11\n",
      "proba de A ou B,  avec fraction: 8/11\n"
     ]
    }
   ],
   "source": [
    "print('proba de A:', len(A)/len(U))\n",
    "pA = Fraction(len(A),len(U))\n",
    "print('proba de A avec fraction:', pA)\n",
    "pB = Fraction(len(B),len(U))\n",
    "pAB = Fraction(len(A & B),len(U))\n",
    "pA_ou_B = Fraction(len(A | B), len(U))\n",
    "print('proba de B avec fraction:', pB)\n",
    "\n",
    "print('proba de A et B,  avec fraction:', pAB)\n",
    "print('proba de A ou B,  avec fraction:', pA_ou_B)"
   ]
  },
  {
   "cell_type": "code",
   "execution_count": 17,
   "metadata": {
    "colab": {
     "base_uri": "https://localhost:8080/",
     "height": 35
    },
    "id": "qZADggEhrPEW",
    "outputId": "f1b54d27-58fb-4b49-c72b-f4af0361d067"
   },
   "outputs": [
    {
     "data": {
      "text/plain": [
       "True"
      ]
     },
     "execution_count": 17,
     "metadata": {},
     "output_type": "execute_result"
    }
   ],
   "source": [
    "pA_ou_B == pA+pB-pAB"
   ]
  },
  {
   "cell_type": "code",
   "execution_count": null,
   "metadata": {},
   "outputs": [],
   "source": []
  }
 ],
 "metadata": {
  "colab": {
   "collapsed_sections": [],
   "name": "Evenement_ensemble.ipynb",
   "provenance": []
  },
  "kernelspec": {
   "display_name": "Python 3",
   "language": "python",
   "name": "python3"
  },
  "language_info": {
   "codemirror_mode": {
    "name": "ipython",
    "version": 3
   },
   "file_extension": ".py",
   "mimetype": "text/x-python",
   "name": "python",
   "nbconvert_exporter": "python",
   "pygments_lexer": "ipython3",
   "version": "3.8.6"
  }
 },
 "nbformat": 4,
 "nbformat_minor": 1
}
