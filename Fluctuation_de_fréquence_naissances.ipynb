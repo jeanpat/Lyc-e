{
 "cells": [
  {
   "cell_type": "markdown",
   "metadata": {
    "colab_type": "text",
    "id": "l0S5mT4dCHdI"
   },
   "source": [
    "# Fluctuation de la fréquence des naissances:\n",
    "Vous vous souvenez de ce village dans lequel sur vingt naissances, seize bébés étaient des garçons?\n",
    "\n",
    ">>>>![Texte alternatif…](http://3.bp.blogspot.com/_pA_WaJftq1A/RtuenOzh64I/AAAAAAAAAFQ/mbQ33j8yFPs/s320/BangkokCrowd2.jpg)\n",
    "\n",
    "\n",
    "\n",
    "Pour simuler une naissance avec un tableur, on pouvait faire des tirages à PILE (garçon) ou FACE (fille) avec un générateur de nombres aléatoires. Chaque colonne du tableau représente une naissance et chaque ligne représente un village.\n",
    "[Simulation tableur](https://docs.google.com/spreadsheets/d/148_IkoLVDev-SHRtxh_6Br0e-v43qXjc4TlAEtiuVzE/edit?usp=sharing)\n",
    "Cette fois-ci, reprenons la simulation en écrivant du code."
   ]
  },
  {
   "cell_type": "markdown",
   "metadata": {
    "colab_type": "text",
    "id": "-giLbuRBKKIw"
   },
   "source": [
    "#SCRATCH c'est bien, mais PYTHON c'est ... différent !!\n",
    "\n",
    "---\n",
    "\n",
    "\n",
    ">>>![Sratch](https://sites.google.com/a/isd284.com/birchview-s-links/_/rsrc/1516722370104/3-third-grade/scratch/scratch.png) ![Python](https://upload.wikimedia.org/wikipedia/commons/thumb/0/0a/Python.svg/240px-Python.svg.png)\n",
    "\n",
    "\n",
    "\n",
    "\n",
    "Faisons un peu d'algorithmique avec un langage de programmation: PYTHON !"
   ]
  },
  {
   "cell_type": "markdown",
   "metadata": {
    "colab_type": "text",
    "id": "pVJKcsvKSGJS"
   },
   "source": [
    "# Faisons connaissance avec l'environnement jupyter:\n",
    "Jupyter est un environnement permettant d'écrire du code python.\n",
    "\n",
    "Ci dessous, vous avez une cellule. Quand on clique sur le triangle, on exécute le programme qui se trouve à l'intérieur (le résultat est le même au clavier en faisant: $SHIFT+ENTRER$). A votre avis que fait le programme ci dessous?"
   ]
  },
  {
   "cell_type": "code",
   "execution_count": 1,
   "metadata": {
    "colab": {
     "base_uri": "https://localhost:8080/",
     "height": 34
    },
    "colab_type": "code",
    "id": "sTLFEqvmBhNO",
    "outputId": "ac38064f-7c04-456e-f2ec-102bb0211adf"
   },
   "outputs": [
    {
     "name": "stdout",
     "output_type": "stream",
     "text": [
      "4\n"
     ]
    }
   ],
   "source": [
    "print(1+3)"
   ]
  },
  {
   "cell_type": "markdown",
   "metadata": {
    "colab_type": "text",
    "id": "b78Bvlr-D0cC"
   },
   "source": [
    "## Devinerez-vous ce fait le programme ci dessous?"
   ]
  },
  {
   "cell_type": "code",
   "execution_count": 2,
   "metadata": {
    "colab": {
     "base_uri": "https://localhost:8080/",
     "height": 34
    },
    "colab_type": "code",
    "id": "OZQpZFtXEF6g",
    "outputId": "966af7be-7ec8-484d-921a-7344cec91ba4"
   },
   "outputs": [
    {
     "name": "stdout",
     "output_type": "stream",
     "text": [
      "le résultat est: 6\n"
     ]
    }
   ],
   "source": [
    "nombre1 = 2\n",
    "nombre2 = 3\n",
    "nombre3 = nombre1 * nombre2\n",
    "print('le résultat est:', nombre3)"
   ]
  },
  {
   "cell_type": "markdown",
   "metadata": {
    "colab_type": "text",
    "id": "TDOs3OszFIBy"
   },
   "source": [
    "# Passons aux choses sérieuses.\n",
    "Nous allons avoir besoin de quelques super-pouvoirs:\n",
    "\n",
    "*   Pour faire des choix aléatoires\n",
    "*   Pour compter facilement.\n",
    "*   Pour tracer des graphiques\n",
    "\n",
    "Exécuter le code dans la cellules ci dessous, en cliquant sur le triangle ou $shift+entrer$:\n"
   ]
  },
  {
   "cell_type": "code",
   "execution_count": 3,
   "metadata": {
    "colab": {},
    "colab_type": "code",
    "id": "o6x0W4s9KIop"
   },
   "outputs": [],
   "source": [
    "import random\n",
    "from collections import Counter\n",
    "from matplotlib import pyplot as plt"
   ]
  },
  {
   "cell_type": "markdown",
   "metadata": {
    "colab_type": "text",
    "id": "v_orfNnwVkMQ"
   },
   "source": [
    "## Jouez avec l'instruction $random.choice()$:\n",
    "Cliquez sur l'icône triangle ci dessous, plusieurs fois:"
   ]
  },
  {
   "cell_type": "code",
   "execution_count": 4,
   "metadata": {
    "cellView": "both",
    "colab": {
     "base_uri": "https://localhost:8080/",
     "height": 34
    },
    "colab_type": "code",
    "id": "xBcygrPsLAsR",
    "outputId": "f1a3d2b1-9583-46f0-d84a-f87895047db7"
   },
   "outputs": [
    {
     "data": {
      "text/plain": [
       "'garçon'"
      ]
     },
     "execution_count": 4,
     "metadata": {},
     "output_type": "execute_result"
    }
   ],
   "source": [
    "random.choice([\"garçon\",\"fille\"])\n"
   ]
  },
  {
   "cell_type": "markdown",
   "metadata": {
    "colab_type": "text",
    "id": "7F-K8TGlJ9Ja"
   },
   "source": [
    "## Pouvez-vous expliquer ce que fait l'instruction $random.choice([\"garçon\",\"fille\"])$ ?\n",
    "\n",
    "Double cliquez ici et notez votre réponse à la suite : \n",
    "\n",
    "................................................................\n"
   ]
  },
  {
   "cell_type": "markdown",
   "metadata": {
    "colab_type": "text",
    "id": "AtQQJ36KStWc"
   },
   "source": [
    "## Mettons $random.choice([\"garçon\",\"fille\"]$ dans une boucle:\n",
    "Un crochet ouvrant $[$ suivi d'un crochet fermant $]$ désigne une liste.\n",
    "*    Que fait le code dans la cellule ci dessous?    Double cliquez ici et notez votre réponse:\n",
    "*    .............................\n"
   ]
  },
  {
   "cell_type": "code",
   "execution_count": 6,
   "metadata": {
    "colab": {
     "base_uri": "https://localhost:8080/",
     "height": 89
    },
    "colab_type": "code",
    "id": "lzZaTLDaK7xy",
    "outputId": "be2f207e-a01d-4d66-8297-d8d39408414d"
   },
   "outputs": [
    {
     "name": "stdout",
     "output_type": "stream",
     "text": [
      "['garçon', 'garçon', 'fille', 'garçon', 'fille', 'garçon', 'garçon', 'fille', 'garçon', 'fille', 'garçon', 'fille', 'garçon', 'fille', 'fille', 'fille', 'fille', 'fille', 'garçon', 'fille', 'fille', 'garçon', 'garçon', 'fille', 'garçon', 'garçon', 'garçon', 'fille', 'garçon', 'garçon', 'garçon', 'garçon', 'fille', 'fille', 'garçon', 'fille', 'garçon', 'garçon', 'garçon', 'fille', 'fille', 'fille', 'fille', 'garçon', 'fille', 'garçon', 'fille', 'garçon', 'garçon', 'garçon', 'fille', 'fille', 'garçon', 'garçon', 'garçon', 'garçon', 'garçon', 'fille', 'garçon', 'garçon', 'garçon', 'fille', 'fille', 'fille', 'garçon', 'fille', 'fille', 'fille', 'garçon', 'fille', 'fille', 'garçon', 'fille', 'fille', 'garçon', 'fille', 'garçon', 'garçon', 'fille', 'fille', 'garçon', 'fille', 'garçon', 'fille', 'fille', 'garçon', 'garçon', 'fille', 'fille', 'garçon', 'fille', 'garçon', 'fille', 'garçon', 'garçon', 'garçon', 'fille', 'fille', 'garçon', 'garçon']\n",
      "\n",
      "bebes est une variable contenant : <class 'list'>\n"
     ]
    }
   ],
   "source": [
    "TotalNaissances = 100\n",
    "bebes= [random.choice([\"garçon\",\"fille\"]) for naiss in range(TotalNaissances)]\n",
    "print(bebes)\n",
    "print()\n",
    "print('bebes est une variable contenant :',type(bebes))"
   ]
  },
  {
   "cell_type": "markdown",
   "metadata": {
    "colab_type": "text",
    "id": "yFylBytQvSSq"
   },
   "source": [
    "## Executez plusieurs fois le code ci dessous:"
   ]
  },
  {
   "cell_type": "code",
   "execution_count": 7,
   "metadata": {
    "colab": {
     "base_uri": "https://localhost:8080/",
     "height": 86
    },
    "colab_type": "code",
    "id": "L9v8sEMoIybq",
    "outputId": "f9f1b35a-b381-422b-86b8-80b0a923778a"
   },
   "outputs": [
    {
     "name": "stdout",
     "output_type": "stream",
     "text": [
      "La variable effectif contient: Counter({'fille': 62, 'garçon': 38})\n",
      "\n",
      "La variable freqFilles contient 0.62\n",
      "La variable freqGarcons contient 0.38\n"
     ]
    }
   ],
   "source": [
    "TotalNaissances = 100\n",
    "bebes= [random.choice([\"garçon\",\"fille\"]) for naiss in range(TotalNaissances)]\n",
    "\n",
    "effectifs = Counter(bebes)\n",
    "freqFilles = effectifs['fille'] / TotalNaissances\n",
    "freqGarcons = effectifs['garçon'] / TotalNaissances\n",
    "\n",
    "print('La variable effectif contient:', effectifs)\n",
    "print()\n",
    "print('La variable freqFilles contient', freqFilles)\n",
    "print('La variable freqGarcons contient', freqGarcons)"
   ]
  },
  {
   "cell_type": "markdown",
   "metadata": {
    "colab_type": "text",
    "id": "p94fKeFpznsI"
   },
   "source": [
    "# Simulons $\\color{green}{100}$ naissances dans 400 villages:\n",
    "Remarquons que si nous voulions faire la même chose avec un tableur, il faudrait remplir 100 colonnes et 400 lignes, ce qui commence à ne pas être pratique.\n",
    "\n",
    "Observons la fluctuation de la fréquence des bébés garçons dans  sous l'hypothèse que les bébés filles et garçons ont la même chance d'être conçus."
   ]
  },
  {
   "cell_type": "markdown",
   "metadata": {
    "colab_type": "text",
    "id": "u2TMdauwyhYG"
   },
   "source": [
    "Que contiennent les variables suivantes (double cliquez pour indiquer votre réponse)?\n",
    "\n",
    "*    effectifs:\n",
    "*    TotalNaissances: \n",
    "*    freqFilles:"
   ]
  },
  {
   "cell_type": "code",
   "execution_count": 8,
   "metadata": {
    "colab": {},
    "colab_type": "code",
    "id": "vOgBo8ZdLNFW"
   },
   "outputs": [],
   "source": [
    "NVillages = 400\n",
    "frequences_filles = []\n",
    "frequences_garcons = []\n",
    "\n",
    "for village in range(NVillages):\n",
    "  TotalNaissances = 100\n",
    "  bebes= [random.choice([\"garçon\",\"fille\"]) for naiss in range(TotalNaissances)]\n",
    "\n",
    "  effectifs = Counter(bebes)\n",
    "  freqFilles = effectifs['fille'] / TotalNaissances\n",
    "  freqGarcons = effectifs['garçon'] / TotalNaissances\n",
    "  frequences_filles.append(freqFilles)\n",
    "  frequences_garcons.append(freqGarcons)"
   ]
  },
  {
   "cell_type": "markdown",
   "metadata": {
    "colab_type": "text",
    "id": "iyAVpccFBjAw"
   },
   "source": [
    "### Le graphique ci dessous permet de visualiser la fréquence des naissances des garçons dans $\\color{red}{400}$ villages :\n",
    "\n",
    "Il y a 400 villages numérotés de 0 à 399. Chaque village est caractérisé par sa fréquence de naissance des garçons et donc des filles, en effet:\n",
    "\n",
    "$f_{fille}=1-f_{garçon}$\n",
    "\n",
    "Pour la plupart des villages, on constate que si le sexe des enfants est déterminé aléatoirement (comme un tirage à pile ou face), alors la fréquence de naissance des garçons semble être dans un certain intervalle. Peut-on voir beaucoup de village où la fréquence de naissance serait de 80% ou de 30%?"
   ]
  },
  {
   "cell_type": "code",
   "execution_count": 9,
   "metadata": {
    "colab": {
     "base_uri": "https://localhost:8080/",
     "height": 300
    },
    "colab_type": "code",
    "id": "xdR44ePG2FG6",
    "outputId": "2c393d44-ba4b-49e7-fc68-9c2884efca30"
   },
   "outputs": [
    {
     "data": {
      "text/plain": [
       "<matplotlib.collections.PathCollection at 0x7f66c4eab590>"
      ]
     },
     "execution_count": 9,
     "metadata": {},
     "output_type": "execute_result"
    },
    {
     "data": {
      "image/png": "[encoded data removed]",
      "text/plain": [
       "<Figure size 1080x288 with 1 Axes>"
      ]
     },
     "metadata": {
      "needs_background": "light"
     },
     "output_type": "display_data"
    }
   ],
   "source": [
    "axes = plt.gca()\n",
    "axes.figure.set_figwidth(15)\n",
    "axes.set_xlabel('village')\n",
    "axes.set_ylabel('frequence naissance garçons')\n",
    "axes.set_ylim([0, 1])\n",
    "axes.scatter(range(NVillages), frequences_garcons)"
   ]
  },
  {
   "cell_type": "markdown",
   "metadata": {
    "colab_type": "text",
    "id": "kP9pX2FOTaKP"
   },
   "source": [
    "# Intervalle de fluctuation au niveau 95%\n",
    "Si la taille de l'échantillon  $N ≥ 25$ et la probabilité p varie entre 0,2 et 0,8, c'est à dire $0.2< p < 0.8$ alors on trouvera la fréquence de naissance des garçons dans l'intervalle $I $ tel que: \n",
    "\n",
    "\n",
    ">>> $ I=[p-\\frac{1}{\\sqrt{N}}; p+\\frac{1}{\\sqrt{N}}] $\n",
    "\n",
    "Ici, on a:  $p=0.5$ et $ N=100$, donc:\n",
    ">>> $ I=[0.5-\\frac{1}{\\sqrt{100}}; 0.5+\\frac{1}{\\sqrt{100}}] =[0.4;0.6]$\n",
    "\n",
    "Cela signifie que pour les 100 naissances de chaque village, dans 95% des villages, la fréquence de naissance de garçons doit être comprise entre 0,4 et 0,6.\n",
    "\n",
    "## Modélisation\n",
    "Dans ce modèle, la naissance des garçons (des filles aussi) est aléatoire avec une probabilité $p=0.5$.\n",
    "* On simule 100 naissances par village.\n",
    "* On calcule la fréquence, $f_G$, de naissance des garçons.\n",
    "* On répète la simulation des naissances dans 400 villages\n",
    "    \n",
    "Dans les 400 villages, la fréquence des naissances des garçons varie aléatoirement (on dit qu'elle fluctue) entre 0,4 et 0,6. Sur 400 villages, la fréquence des naissances de garçons est hors de cet intervalle dans moins de cinq fois.\n",
    "\n",
    "Vérifions ci dessous que la modélisation informatique fonctionne. La proportion de villages dont la fréquence de naissance des garçons hors intervalle $[0,4 ; 0,6]$ doit être inférieure 5 %"
   ]
  },
  {
   "cell_type": "code",
   "execution_count": 11,
   "metadata": {
    "colab": {
     "base_uri": "https://localhost:8080/",
     "height": 278
    },
    "colab_type": "code",
    "id": "Dn_SSXIxhFVy",
    "outputId": "db47f879-64ec-470e-94dd-8ce6e5d6df0c"
   },
   "outputs": [
    {
     "name": "stdout",
     "output_type": "stream",
     "text": [
      "la fréquence de naissance dans le  19 ième village est hors intervalle et vaut: 0.36\n",
      "la fréquence de naissance dans le  30 ième village est hors intervalle et vaut: 0.62\n",
      "la fréquence de naissance dans le  45 ième village est hors intervalle et vaut: 0.61\n",
      "la fréquence de naissance dans le  48 ième village est hors intervalle et vaut: 0.61\n",
      "la fréquence de naissance dans le  87 ième village est hors intervalle et vaut: 0.64\n",
      "la fréquence de naissance dans le  156 ième village est hors intervalle et vaut: 0.61\n",
      "la fréquence de naissance dans le  169 ième village est hors intervalle et vaut: 0.37\n",
      "la fréquence de naissance dans le  203 ième village est hors intervalle et vaut: 0.38\n",
      "la fréquence de naissance dans le  224 ième village est hors intervalle et vaut: 0.61\n",
      "la fréquence de naissance dans le  226 ième village est hors intervalle et vaut: 0.63\n",
      "la fréquence de naissance dans le  253 ième village est hors intervalle et vaut: 0.39\n",
      "la fréquence de naissance dans le  264 ième village est hors intervalle et vaut: 0.39\n",
      "la fréquence de naissance dans le  297 ième village est hors intervalle et vaut: 0.37\n",
      "la fréquence de naissance dans le  307 ième village est hors intervalle et vaut: 0.38\n",
      "la fréquence de naissance dans le  313 ième village est hors intervalle et vaut: 0.61\n",
      "la fréquence de naissance dans le  319 ième village est hors intervalle et vaut: 0.66\n",
      "la fréquence de naissance dans le  328 ième village est hors intervalle et vaut: 0.35\n",
      "la fréquence de naissance dans le  332 ième village est hors intervalle et vaut: 0.39\n",
      "la fréquence de naissance dans le  338 ième village est hors intervalle et vaut: 0.61\n",
      "\n",
      "Il y a: 19  villages sur 400  où la fréquence de naissance de garçons n'est pas dans l'intervalle [0.4; 0.6]. C'est à dire  4.75 % des villages\n"
     ]
    }
   ],
   "source": [
    "hors_Ifluc = 0\n",
    "for compteur, freq in enumerate(frequences_garcons):\n",
    "  if freq<0.4 or 0.6 <freq:\n",
    "    print(\"la fréquence de naissance dans le \",compteur,\"ième village est hors intervalle et vaut:\",freq)\n",
    "    hors_Ifluc = hors_Ifluc + 1\n",
    "print()\n",
    "print(\"Il y a:\",hors_Ifluc,\" villages sur\",NVillages,\" où la fréquence de naissance de garçons n'est pas dans l'intervalle [0.4; 0.6]. C'est à dire \", 100*hors_Ifluc/NVillages,\"% des villages\" )"
   ]
  },
  {
   "cell_type": "markdown",
   "metadata": {
    "colab_type": "text",
    "id": "fLxD_O-Vd2_o"
   },
   "source": [
    "# Interprétation du modèle:\n",
    "\n",
    "Si dans la vraie vie, on trouve un village où sur 100 naissances, la fréquence de naissance des garçons n'est pas dans l'intervalle $\\color{blue}{[0,4 ~;~ 0,6]}$, on peut dire qu'avec 5% d'erreur, cette fréquence de naissance des garçons n'est pas due au hasard.\n",
    "Dans 95% des villages, il doit y avoir entre 40 et 60% de garçon à la naissance si le choix du sexe est aléatoire."
   ]
  },
  {
   "cell_type": "code",
   "execution_count": null,
   "metadata": {
    "colab": {},
    "colab_type": "code",
    "id": "7C9WvfLefcuP"
   },
   "outputs": [],
   "source": []
  }
 ],
 "metadata": {
  "colab": {
   "name": "Fluctuation de fréquence: naissances",
   "provenance": []
  },
  "kernelspec": {
   "display_name": "Python 3",
   "language": "python",
   "name": "python3"
  },
  "language_info": {
   "codemirror_mode": {
    "name": "ipython",
    "version": 3
   },
   "file_extension": ".py",
   "mimetype": "text/x-python",
   "name": "python",
   "nbconvert_exporter": "python",
   "pygments_lexer": "ipython3",
   "version": "3.8.6"
  }
 },
 "nbformat": 4,
 "nbformat_minor": 4
}
